{
 "cells": [
  {
   "cell_type": "markdown",
   "metadata": {},
   "source": [
    "## Task 1"
   ]
  },
  {
   "cell_type": "markdown",
   "metadata": {},
   "source": [
    "### A python module has been designed to handle the jupiter moons data. The module revolves around the moons class which can be intialised by the following code."
   ]
  },
  {
   "cell_type": "code",
   "execution_count": 1,
   "metadata": {},
   "outputs": [],
   "source": [
    "import Jupiter as jp\n",
    "\n",
    "Moons_instance = jp.Moons()\n"
   ]
  },
  {
   "cell_type": "markdown",
   "metadata": {},
   "source": [
    "### Using the view function from the class we can see the database or just the first few records by changing the head parameter to true."
   ]
  },
  {
   "cell_type": "code",
   "execution_count": 2,
   "metadata": {},
   "outputs": [
    {
     "data": {
      "text/html": [
       "<div>\n",
       "<style scoped>\n",
       "    .dataframe tbody tr th:only-of-type {\n",
       "        vertical-align: middle;\n",
       "    }\n",
       "\n",
       "    .dataframe tbody tr th {\n",
       "        vertical-align: top;\n",
       "    }\n",
       "\n",
       "    .dataframe thead th {\n",
       "        text-align: right;\n",
       "    }\n",
       "</style>\n",
       "<table border=\"1\" class=\"dataframe\">\n",
       "  <thead>\n",
       "    <tr style=\"text-align: right;\">\n",
       "      <th></th>\n",
       "      <th>period_days</th>\n",
       "      <th>distance_km</th>\n",
       "      <th>radius_km</th>\n",
       "      <th>mag</th>\n",
       "      <th>group</th>\n",
       "      <th>ecc</th>\n",
       "      <th>inclination_deg</th>\n",
       "      <th>predicted_mass</th>\n",
       "      <th>T^2</th>\n",
       "      <th>a^3</th>\n",
       "    </tr>\n",
       "    <tr>\n",
       "      <th>moon</th>\n",
       "      <th></th>\n",
       "      <th></th>\n",
       "      <th></th>\n",
       "      <th></th>\n",
       "      <th></th>\n",
       "      <th></th>\n",
       "      <th></th>\n",
       "      <th></th>\n",
       "      <th></th>\n",
       "      <th></th>\n",
       "    </tr>\n",
       "  </thead>\n",
       "  <tbody>\n",
       "    <tr>\n",
       "      <th>Adrastea</th>\n",
       "      <td>0.298</td>\n",
       "      <td>129000.0</td>\n",
       "      <td>8.2</td>\n",
       "      <td>NaN</td>\n",
       "      <td>Inner</td>\n",
       "      <td>0.001500</td>\n",
       "      <td>0.03</td>\n",
       "      <td>1.196149e+14</td>\n",
       "      <td>6.629183e+08</td>\n",
       "      <td>2.146689e+24</td>\n",
       "    </tr>\n",
       "    <tr>\n",
       "      <th>Aitne</th>\n",
       "      <td>730.000</td>\n",
       "      <td>23231000.0</td>\n",
       "      <td>1.5</td>\n",
       "      <td>22.7</td>\n",
       "      <td>Carme</td>\n",
       "      <td>0.264000</td>\n",
       "      <td>165.00</td>\n",
       "      <td>1.180038e+14</td>\n",
       "      <td>3.978077e+15</td>\n",
       "      <td>1.253729e+31</td>\n",
       "    </tr>\n",
       "    <tr>\n",
       "      <th>Amalthea</th>\n",
       "      <td>0.498</td>\n",
       "      <td>181400.0</td>\n",
       "      <td>83.5</td>\n",
       "      <td>14.1</td>\n",
       "      <td>Inner</td>\n",
       "      <td>0.003190</td>\n",
       "      <td>0.37</td>\n",
       "      <td>1.193558e+14</td>\n",
       "      <td>1.851340e+09</td>\n",
       "      <td>5.969141e+24</td>\n",
       "    </tr>\n",
       "    <tr>\n",
       "      <th>Ananke</th>\n",
       "      <td>630.000</td>\n",
       "      <td>21300000.0</td>\n",
       "      <td>14.0</td>\n",
       "      <td>18.9</td>\n",
       "      <td>Ananke</td>\n",
       "      <td>0.174725</td>\n",
       "      <td>148.60</td>\n",
       "      <td>1.200455e+14</td>\n",
       "      <td>2.962843e+15</td>\n",
       "      <td>9.663597e+30</td>\n",
       "    </tr>\n",
       "    <tr>\n",
       "      <th>Aoede</th>\n",
       "      <td>761.000</td>\n",
       "      <td>24000000.0</td>\n",
       "      <td>2.0</td>\n",
       "      <td>22.5</td>\n",
       "      <td>Pasiphae</td>\n",
       "      <td>0.432000</td>\n",
       "      <td>158.00</td>\n",
       "      <td>1.188637e+14</td>\n",
       "      <td>4.323115e+15</td>\n",
       "      <td>1.382400e+31</td>\n",
       "    </tr>\n",
       "  </tbody>\n",
       "</table>\n",
       "</div>"
      ],
      "text/plain": [
       "          period_days  distance_km  radius_km   mag     group       ecc  \\\n",
       "moon                                                                      \n",
       "Adrastea        0.298     129000.0        8.2   NaN     Inner  0.001500   \n",
       "Aitne         730.000   23231000.0        1.5  22.7     Carme  0.264000   \n",
       "Amalthea        0.498     181400.0       83.5  14.1     Inner  0.003190   \n",
       "Ananke        630.000   21300000.0       14.0  18.9    Ananke  0.174725   \n",
       "Aoede         761.000   24000000.0        2.0  22.5  Pasiphae  0.432000   \n",
       "\n",
       "          inclination_deg  predicted_mass           T^2           a^3  \n",
       "moon                                                                   \n",
       "Adrastea             0.03    1.196149e+14  6.629183e+08  2.146689e+24  \n",
       "Aitne              165.00    1.180038e+14  3.978077e+15  1.253729e+31  \n",
       "Amalthea             0.37    1.193558e+14  1.851340e+09  5.969141e+24  \n",
       "Ananke             148.60    1.200455e+14  2.962843e+15  9.663597e+30  \n",
       "Aoede              158.00    1.188637e+14  4.323115e+15  1.382400e+31  "
      ]
     },
     "execution_count": 2,
     "metadata": {},
     "output_type": "execute_result"
    }
   ],
   "source": [
    "Moons_instance.view(head=True)"
   ]
  },
  {
   "cell_type": "markdown",
   "metadata": {},
   "source": [
    "### To view a specific row or rows the locate function can be given a singular or list of moons and return their corresponding data."
   ]
  },
  {
   "cell_type": "code",
   "execution_count": 3,
   "metadata": {},
   "outputs": [
    {
     "data": {
      "text/plain": [
       "period_days                                    252.0\n",
       "distance_km                               11483000.0\n",
       "radius_km                                        1.5\n",
       "mag                                             22.9\n",
       "group                                        Himalia\n",
       "ecc                                            0.094\n",
       "inclination_deg                                30.61\n",
       "predicted_mass                118795354497828.515625\n",
       "T^2                                474054819840000.0\n",
       "a^3                1514140215586999901838947385344.0\n",
       "Name: Ersa, dtype: object"
      ]
     },
     "execution_count": 3,
     "metadata": {},
     "output_type": "execute_result"
    }
   ],
   "source": [
    "Moons_instance.locate(\"Ersa\")"
   ]
  },
  {
   "cell_type": "markdown",
   "metadata": {},
   "source": [
    "### A quick comparison of each row can be quickly executed using the relationship_view function in order to get an idea of potential correlations between rows."
   ]
  },
  {
   "cell_type": "code",
   "execution_count": 4,
   "metadata": {},
   "outputs": [],
   "source": [
    "#Moons_instance.relationship_view()"
   ]
  },
  {
   "cell_type": "markdown",
   "metadata": {},
   "source": [
    "### Data can be grouped and a statistical description generated. It default groups by the \"group\" column but can be changed with the group parameter."
   ]
  },
  {
   "cell_type": "markdown",
   "metadata": {},
   "source": [
    "###"
   ]
  },
  {
   "cell_type": "code",
   "execution_count": 5,
   "metadata": {},
   "outputs": [
    {
     "data": {
      "text/html": [
       "<div>\n",
       "<style scoped>\n",
       "    .dataframe tbody tr th:only-of-type {\n",
       "        vertical-align: middle;\n",
       "    }\n",
       "\n",
       "    .dataframe tbody tr th {\n",
       "        vertical-align: top;\n",
       "    }\n",
       "\n",
       "    .dataframe thead th {\n",
       "        text-align: right;\n",
       "    }\n",
       "</style>\n",
       "<table border=\"1\" class=\"dataframe\">\n",
       "  <thead>\n",
       "    <tr style=\"text-align: right;\">\n",
       "      <th></th>\n",
       "      <th>count</th>\n",
       "      <th>mean</th>\n",
       "      <th>std</th>\n",
       "      <th>min</th>\n",
       "      <th>25%</th>\n",
       "      <th>50%</th>\n",
       "      <th>75%</th>\n",
       "      <th>max</th>\n",
       "    </tr>\n",
       "    <tr>\n",
       "      <th>group</th>\n",
       "      <th></th>\n",
       "      <th></th>\n",
       "      <th></th>\n",
       "      <th></th>\n",
       "      <th></th>\n",
       "      <th></th>\n",
       "      <th></th>\n",
       "      <th></th>\n",
       "    </tr>\n",
       "  </thead>\n",
       "  <tbody>\n",
       "    <tr>\n",
       "      <th>Ananke</th>\n",
       "      <td>13.0</td>\n",
       "      <td>616.076923</td>\n",
       "      <td>23.070405</td>\n",
       "      <td>551.00</td>\n",
       "      <td>607.000000</td>\n",
       "      <td>624.000000</td>\n",
       "      <td>629.000000</td>\n",
       "      <td>641.000000</td>\n",
       "    </tr>\n",
       "    <tr>\n",
       "      <th>Carme</th>\n",
       "      <td>14.0</td>\n",
       "      <td>721.642857</td>\n",
       "      <td>29.684513</td>\n",
       "      <td>683.00</td>\n",
       "      <td>693.000000</td>\n",
       "      <td>719.500000</td>\n",
       "      <td>742.250000</td>\n",
       "      <td>767.000000</td>\n",
       "    </tr>\n",
       "    <tr>\n",
       "      <th>Galilean</th>\n",
       "      <td>4.0</td>\n",
       "      <td>7.285050</td>\n",
       "      <td>6.659114</td>\n",
       "      <td>1.75</td>\n",
       "      <td>3.100886</td>\n",
       "      <td>5.350591</td>\n",
       "      <td>9.534755</td>\n",
       "      <td>16.689018</td>\n",
       "    </tr>\n",
       "    <tr>\n",
       "      <th>Hamilia</th>\n",
       "      <td>1.0</td>\n",
       "      <td>258.000000</td>\n",
       "      <td>NaN</td>\n",
       "      <td>258.00</td>\n",
       "      <td>258.000000</td>\n",
       "      <td>258.000000</td>\n",
       "      <td>258.000000</td>\n",
       "      <td>258.000000</td>\n",
       "    </tr>\n",
       "    <tr>\n",
       "      <th>Himalia</th>\n",
       "      <td>6.0</td>\n",
       "      <td>256.666667</td>\n",
       "      <td>15.870308</td>\n",
       "      <td>242.00</td>\n",
       "      <td>249.000000</td>\n",
       "      <td>252.000000</td>\n",
       "      <td>257.250000</td>\n",
       "      <td>287.000000</td>\n",
       "    </tr>\n",
       "    <tr>\n",
       "      <th>Inner</th>\n",
       "      <td>4.0</td>\n",
       "      <td>0.439000</td>\n",
       "      <td>0.181589</td>\n",
       "      <td>0.29</td>\n",
       "      <td>0.296000</td>\n",
       "      <td>0.398000</td>\n",
       "      <td>0.541000</td>\n",
       "      <td>0.670000</td>\n",
       "    </tr>\n",
       "    <tr>\n",
       "      <th>Pasiphae</th>\n",
       "      <td>12.0</td>\n",
       "      <td>744.083333</td>\n",
       "      <td>26.956053</td>\n",
       "      <td>701.00</td>\n",
       "      <td>722.750000</td>\n",
       "      <td>739.000000</td>\n",
       "      <td>765.000000</td>\n",
       "      <td>787.000000</td>\n",
       "    </tr>\n",
       "    <tr>\n",
       "      <th>other</th>\n",
       "      <td>2.0</td>\n",
       "      <td>293.000000</td>\n",
       "      <td>230.516811</td>\n",
       "      <td>130.00</td>\n",
       "      <td>211.500000</td>\n",
       "      <td>293.000000</td>\n",
       "      <td>374.500000</td>\n",
       "      <td>456.000000</td>\n",
       "    </tr>\n",
       "  </tbody>\n",
       "</table>\n",
       "</div>"
      ],
      "text/plain": [
       "          count        mean         std     min         25%         50%  \\\n",
       "group                                                                     \n",
       "Ananke     13.0  616.076923   23.070405  551.00  607.000000  624.000000   \n",
       "Carme      14.0  721.642857   29.684513  683.00  693.000000  719.500000   \n",
       "Galilean    4.0    7.285050    6.659114    1.75    3.100886    5.350591   \n",
       "Hamilia     1.0  258.000000         NaN  258.00  258.000000  258.000000   \n",
       "Himalia     6.0  256.666667   15.870308  242.00  249.000000  252.000000   \n",
       "Inner       4.0    0.439000    0.181589    0.29    0.296000    0.398000   \n",
       "Pasiphae   12.0  744.083333   26.956053  701.00  722.750000  739.000000   \n",
       "other       2.0  293.000000  230.516811  130.00  211.500000  293.000000   \n",
       "\n",
       "                 75%         max  \n",
       "group                             \n",
       "Ananke    629.000000  641.000000  \n",
       "Carme     742.250000  767.000000  \n",
       "Galilean    9.534755   16.689018  \n",
       "Hamilia   258.000000  258.000000  \n",
       "Himalia   257.250000  287.000000  \n",
       "Inner       0.541000    0.670000  \n",
       "Pasiphae  765.000000  787.000000  \n",
       "other     374.500000  456.000000  "
      ]
     },
     "execution_count": 5,
     "metadata": {},
     "output_type": "execute_result"
    }
   ],
   "source": [
    "Moons_instance.summary_stats(\"period_days\")"
   ]
  },
  {
   "cell_type": "markdown",
   "metadata": {},
   "source": [
    "### Potential correlation between two columns can be explored through the plot function."
   ]
  },
  {
   "cell_type": "code",
   "execution_count": 6,
   "metadata": {},
   "outputs": [
    {
     "data": {
      "image/png": "[encoded data removed]",
      "text/plain": [
       "<Figure size 640x480 with 1 Axes>"
      ]
     },
     "metadata": {},
     "output_type": "display_data"
    }
   ],
   "source": [
    "Moons_instance.plot(\"period_days\", \"distance_km\", \"period / days\", \"distance / km\")"
   ]
  },
  {
   "cell_type": "markdown",
   "metadata": {},
   "source": [
    "## Task 2"
   ]
  },
  {
   "cell_type": "markdown",
   "metadata": {},
   "source": [
    "### We can additionally use the data in the database to apply keplers law of planetary motion to calculate an estimate for the mass of Jupiter. Linear regression analysis is performed as in the previous section the most recent graph makes it clear that there is a positive correlation between the period and distance. The model is then fit to data and from this model predicted."
   ]
  },
  {
   "cell_type": "code",
   "execution_count": 7,
   "metadata": {},
   "outputs": [
    {
     "name": "stdout",
     "output_type": "stream",
     "text": [
      "The R2 score is: 0.9874698094589166\n"
     ]
    }
   ],
   "source": [
    "Moons_instance.model()"
   ]
  },
  {
   "cell_type": "markdown",
   "metadata": {},
   "source": [
    "### The data predicted from the model can then be plotted alongside a scatter of the original data to see how well the model has worked and to make sure the correlation still exists."
   ]
  },
  {
   "cell_type": "markdown",
   "metadata": {},
   "source": [
    "### "
   ]
  },
  {
   "cell_type": "code",
   "execution_count": 8,
   "metadata": {},
   "outputs": [
    {
     "data": {
      "image/png": "[encoded data removed]",
      "text/plain": [
       "<Figure size 640x480 with 1 Axes>"
      ]
     },
     "metadata": {},
     "output_type": "display_data"
    }
   ],
   "source": [
    "Moons_instance.model_plot()"
   ]
  },
  {
   "cell_type": "markdown",
   "metadata": {},
   "source": [
    "### We can use this model to calculate the the mass of jupiter as we know the gravitational constant is 6.67e-11."
   ]
  },
  {
   "cell_type": "code",
   "execution_count": 9,
   "metadata": {},
   "outputs": [
    {
     "name": "stdout",
     "output_type": "stream",
     "text": [
      "The mass of jupiter is predicted to be 1.9045035734306243e+27Kg\n"
     ]
    }
   ],
   "source": [
    "Moons_instance.jupiter_mass_predict()"
   ]
  },
  {
   "cell_type": "markdown",
   "metadata": {},
   "source": [
    "### This value can be compared to that produced by the NASA Jet Propulsion Laboratory which is 1.898e+27Kg which is a difference of 0.37%. As this is the case it is safe to say the prediction is good and shows the model has worked.(source acessed january 2024:https://ssd.jpl.nasa.gov/planets/phys_par.html )"
   ]
  }
 ],
 "metadata": {
  "kernelspec": {
   "display_name": "base",
   "language": "python",
   "name": "python3"
  },
  "language_info": {
   "codemirror_mode": {
    "name": "ipython",
    "version": 3
   },
   "file_extension": ".py",
   "mimetype": "text/x-python",
   "name": "python",
   "nbconvert_exporter": "python",
   "pygments_lexer": "ipython3",
   "version": "3.11.5"
  }
 },
 "nbformat": 4,
 "nbformat_minor": 2
}
