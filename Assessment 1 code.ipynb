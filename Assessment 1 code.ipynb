{
 "cells": [
  {
   "cell_type": "markdown",
   "metadata": {},
   "source": [
    "## Task 1"
   ]
  },
  {
   "cell_type": "code",
   "execution_count": null,
   "metadata": {},
   "outputs": [],
   "source": []
  },
  {
   "cell_type": "markdown",
   "metadata": {},
   "source": [
    "## Task 2"
   ]
  },
  {
   "cell_type": "code",
   "execution_count": 3,
   "metadata": {},
   "outputs": [
    {
     "ename": "TypeError",
     "evalue": "Moons.model() missing 1 required positional argument: 'self'",
     "output_type": "error",
     "traceback": [
      "\u001b[1;31m---------------------------------------------------------------------------\u001b[0m",
      "\u001b[1;31mTypeError\u001b[0m                                 Traceback (most recent call last)",
      "Cell \u001b[1;32mIn[3], line 19\u001b[0m\n\u001b[0;32m     16\u001b[0m moons_df[\u001b[38;5;124m\"\u001b[39m\u001b[38;5;124ma^3\u001b[39m\u001b[38;5;124m\"\u001b[39m] \u001b[38;5;241m=\u001b[39m (moons_df[\u001b[38;5;124m\"\u001b[39m\u001b[38;5;124mdistance_km\u001b[39m\u001b[38;5;124m\"\u001b[39m]\u001b[38;5;241m*\u001b[39m\u001b[38;5;241m1000\u001b[39m)\u001b[38;5;241m*\u001b[39m\u001b[38;5;241m*\u001b[39m\u001b[38;5;241m3\u001b[39m\n\u001b[0;32m     18\u001b[0m jupiter \u001b[38;5;241m=\u001b[39m jp\u001b[38;5;241m.\u001b[39mMoons\n\u001b[1;32m---> 19\u001b[0m \u001b[43mjupiter\u001b[49m\u001b[38;5;241;43m.\u001b[39;49m\u001b[43mmodel\u001b[49m\u001b[43m(\u001b[49m\u001b[43m)\u001b[49m\n\u001b[0;32m     20\u001b[0m jupiter\u001b[38;5;241m.\u001b[39mplot()\n",
      "\u001b[1;31mTypeError\u001b[0m: Moons.model() missing 1 required positional argument: 'self'"
     ]
    }
   ],
   "source": [
    "import Jupiter as jp\n",
    "import pandas as pd\n",
    "import numpy as np\n",
    "\n",
    "def Kippler(row):\n",
    "    jupiter_mass =np.sqrt(((row[\"distance_km\"]**3)*4*(np.pi)**2)/((row[\"period_days\"]**2)*(6.67*10**-11)))\n",
    "\n",
    "    return jupiter_mass\n",
    "\n",
    "connectable = f\"sqlite:///jupiter.db\"\n",
    "Query = (\"SELECT * FROM moons\")\n",
    "\n",
    "moons_df = pd.read_sql(Query, connectable, index_col=\"moon\")\n",
    "moons_df[\"predicted_mass\"] = moons_df.apply(Kippler, axis=1)\n",
    "moons_df[\"T^2\"] = (moons_df[\"period_days\"]*86400)**2\n",
    "moons_df[\"a^3\"] = (moons_df[\"distance_km\"]*1000)**3\n",
    "\n",
    "jupiter = jp.Moons\n",
    "jupiter.model()\n",
    "jupiter.plot()"
   ]
  },
  {
   "cell_type": "code",
   "execution_count": null,
   "metadata": {},
   "outputs": [
    {
     "name": "stdout",
     "output_type": "stream",
     "text": [
      "The R2 score is: 0.9874698094589166\n",
      "The RMSE score is: 3.9427519223478177e+28\n"
     ]
    }
   ],
   "source": [
    "from sklearn import linear_model\n",
    "\n",
    "model = linear_model.LinearRegression(fit_intercept=True)\n",
    "\n",
    "X = moons_df[[\"a^3\"]]\n",
    "Y = moons_df[\"T^2\"]\n",
    "\n",
    "from sklearn.model_selection import train_test_split\n",
    "\n",
    "x_train, x_test, y_train, y_test = train_test_split(X,Y, test_size=0.3, random_state=42)\n",
    "\n",
    "\n",
    "model.fit(x_train,y_train)\n",
    "\n",
    "pred_T2 = model.predict(x_test)\n",
    "\n",
    "from sklearn.metrics import mean_squared_error, r2_score\n",
    "print(f\"The R2 score is: {r2_score(y_test,pred_T2)}\")\n",
    "print(f\"The RMSE score is: {mean_squared_error(y_test,pred_T2, squared=True)}\")\n",
    "\n"
   ]
  },
  {
   "cell_type": "code",
   "execution_count": null,
   "metadata": {},
   "outputs": [
    {
     "data": {
      "text/plain": [
       "Text(0, 0.5, 'T^2')"
      ]
     },
     "execution_count": 9,
     "metadata": {},
     "output_type": "execute_result"
    },
    {
     "data": {
      "image/png": "[encoded data removed]",
      "text/plain": [
       "<Figure size 640x480 with 1 Axes>"
      ]
     },
     "metadata": {},
     "output_type": "display_data"
    }
   ],
   "source": [
    "import matplotlib.pyplot as plt\n",
    "\n",
    "fig, ax  = plt.subplots()\n",
    "\n",
    "#Create a scatter plot of the known a^3-T^2 values\n",
    "ax.scatter(moons_df[\"a^3\"],moons_df[\"T^2\"])\n",
    "\n",
    "#Draw line to represent the predicted T^2-values\n",
    "ax.plot(x_test,pred_T2)\n",
    "\n",
    "# Axis labels\n",
    "ax.set_xlabel(\"a^3\")\n",
    "ax.set_ylabel(\"T^2\")"
   ]
  },
  {
   "cell_type": "code",
   "execution_count": null,
   "metadata": {},
   "outputs": [
    {
     "name": "stdout",
     "output_type": "stream",
     "text": [
      "The mass of jupiter is predicted to be 1.9045035734306243e+27Kg\n"
     ]
    }
   ],
   "source": [
    "M = (4* np.pi**2) / (model.coef_[0]*6.67e-11)\n",
    "\n",
    "print(f\"The mass of jupiter is predicted to be {M}Kg\")"
   ]
  }
 ],
 "metadata": {
  "kernelspec": {
   "display_name": "base",
   "language": "python",
   "name": "python3"
  },
  "language_info": {
   "codemirror_mode": {
    "name": "ipython",
    "version": 3
   },
   "file_extension": ".py",
   "mimetype": "text/x-python",
   "name": "python",
   "nbconvert_exporter": "python",
   "pygments_lexer": "ipython3",
   "version": "3.11.5"
  }
 },
 "nbformat": 4,
 "nbformat_minor": 2
}
